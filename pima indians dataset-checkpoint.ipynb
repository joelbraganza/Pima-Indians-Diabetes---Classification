{
 "cells": [
  {
   "cell_type": "markdown",
   "metadata": {},
   "source": [
    "# Pima Indians Diabetes"
   ]
  },
  {
   "cell_type": "markdown",
   "metadata": {},
   "source": [
    "### Let's import the necessary libraries"
   ]
  },
  {
   "cell_type": "code",
   "execution_count": 1,
   "metadata": {},
   "outputs": [],
   "source": [
    "import pandas as pd\n",
    "import numpy as np\n",
    "import seaborn as sns\n",
    "from matplotlib import pyplot as plt\n",
    "from sklearn.utils import shuffle"
   ]
  },
  {
   "cell_type": "code",
   "execution_count": 2,
   "metadata": {},
   "outputs": [
    {
     "name": "stdout",
     "output_type": "stream",
     "text": [
      "(767, 9)\n"
     ]
    },
    {
     "data": {
      "text/html": [
       "<div>\n",
       "<style scoped>\n",
       "    .dataframe tbody tr th:only-of-type {\n",
       "        vertical-align: middle;\n",
       "    }\n",
       "\n",
       "    .dataframe tbody tr th {\n",
       "        vertical-align: top;\n",
       "    }\n",
       "\n",
       "    .dataframe thead th {\n",
       "        text-align: right;\n",
       "    }\n",
       "</style>\n",
       "<table border=\"1\" class=\"dataframe\">\n",
       "  <thead>\n",
       "    <tr style=\"text-align: right;\">\n",
       "      <th></th>\n",
       "      <th>preg</th>\n",
       "      <th>plas</th>\n",
       "      <th>pres</th>\n",
       "      <th>skin</th>\n",
       "      <th>test</th>\n",
       "      <th>mass</th>\n",
       "      <th>pedi</th>\n",
       "      <th>age</th>\n",
       "      <th>class</th>\n",
       "    </tr>\n",
       "  </thead>\n",
       "  <tbody>\n",
       "    <tr>\n",
       "      <th>0</th>\n",
       "      <td>1</td>\n",
       "      <td>85</td>\n",
       "      <td>66</td>\n",
       "      <td>29</td>\n",
       "      <td>0</td>\n",
       "      <td>26.6</td>\n",
       "      <td>0.351</td>\n",
       "      <td>31</td>\n",
       "      <td>0</td>\n",
       "    </tr>\n",
       "    <tr>\n",
       "      <th>1</th>\n",
       "      <td>8</td>\n",
       "      <td>183</td>\n",
       "      <td>64</td>\n",
       "      <td>0</td>\n",
       "      <td>0</td>\n",
       "      <td>23.3</td>\n",
       "      <td>0.672</td>\n",
       "      <td>32</td>\n",
       "      <td>1</td>\n",
       "    </tr>\n",
       "    <tr>\n",
       "      <th>2</th>\n",
       "      <td>1</td>\n",
       "      <td>89</td>\n",
       "      <td>66</td>\n",
       "      <td>23</td>\n",
       "      <td>94</td>\n",
       "      <td>28.1</td>\n",
       "      <td>0.167</td>\n",
       "      <td>21</td>\n",
       "      <td>0</td>\n",
       "    </tr>\n",
       "    <tr>\n",
       "      <th>3</th>\n",
       "      <td>0</td>\n",
       "      <td>137</td>\n",
       "      <td>40</td>\n",
       "      <td>35</td>\n",
       "      <td>168</td>\n",
       "      <td>43.1</td>\n",
       "      <td>2.288</td>\n",
       "      <td>33</td>\n",
       "      <td>1</td>\n",
       "    </tr>\n",
       "    <tr>\n",
       "      <th>4</th>\n",
       "      <td>5</td>\n",
       "      <td>116</td>\n",
       "      <td>74</td>\n",
       "      <td>0</td>\n",
       "      <td>0</td>\n",
       "      <td>25.6</td>\n",
       "      <td>0.201</td>\n",
       "      <td>30</td>\n",
       "      <td>0</td>\n",
       "    </tr>\n",
       "  </tbody>\n",
       "</table>\n",
       "</div>"
      ],
      "text/plain": [
       "   preg  plas  pres  skin  test  mass   pedi  age  class\n",
       "0     1    85    66    29     0  26.6  0.351   31      0\n",
       "1     8   183    64     0     0  23.3  0.672   32      1\n",
       "2     1    89    66    23    94  28.1  0.167   21      0\n",
       "3     0   137    40    35   168  43.1  2.288   33      1\n",
       "4     5   116    74     0     0  25.6  0.201   30      0"
      ]
     },
     "execution_count": 2,
     "metadata": {},
     "output_type": "execute_result"
    }
   ],
   "source": [
    "df = pd.read_csv(r'D:\\joel\\UDEMY -\\datasets and codes\\Notebooks\\.ipynb_checkpoints\\pima indians dataset\\pima-indians-diabetes.csv')\n",
    "print (df.shape)\n",
    "df.head()"
   ]
  },
  {
   "cell_type": "markdown",
   "metadata": {},
   "source": [
    "Let's look for presence of missing values."
   ]
  },
  {
   "cell_type": "code",
   "execution_count": 3,
   "metadata": {},
   "outputs": [
    {
     "data": {
      "text/plain": [
       "preg     0.0\n",
       "plas     0.0\n",
       "pres     0.0\n",
       "skin     0.0\n",
       "test     0.0\n",
       "mass     0.0\n",
       "pedi     0.0\n",
       "age      0.0\n",
       "class    0.0\n",
       "dtype: float64"
      ]
     },
     "execution_count": 3,
     "metadata": {},
     "output_type": "execute_result"
    }
   ],
   "source": [
    "(df.isnull().sum()/df.shape[0])*100"
   ]
  },
  {
   "cell_type": "markdown",
   "metadata": {},
   "source": [
    "Let's look at the ratio of people with Diabetes(1) to without(0) in the data "
   ]
  },
  {
   "cell_type": "code",
   "execution_count": 4,
   "metadata": {},
   "outputs": [
    {
     "name": "stdout",
     "output_type": "stream",
     "text": [
      "0    65.189048\n",
      "1    34.810952\n",
      "Name: class, dtype: float64\n"
     ]
    },
    {
     "data": {
      "text/plain": [
       "<AxesSubplot:>"
      ]
     },
     "execution_count": 4,
     "metadata": {},
     "output_type": "execute_result"
    },
    {
     "data": {
      "image/png": "[encoded data removed]",
      "text/plain": [
       "<Figure size 432x288 with 1 Axes>"
      ]
     },
     "metadata": {
      "needs_background": "light"
     },
     "output_type": "display_data"
    }
   ],
   "source": [
    "print ((df['class'].value_counts()/df.shape[0])*100)\n",
    "df['class'].value_counts().plot(kind='bar')"
   ]
  },
  {
   "cell_type": "markdown",
   "metadata": {},
   "source": [
    "We can see the observations without diabetes is 65% and with diabetes is 34%. This is an imbalanced dataset, we will try to balance this later."
   ]
  },
  {
   "cell_type": "markdown",
   "metadata": {},
   "source": [
    "The description of the dataset indicates that the independent variables are continuous in nature. We'll look at the distribution of the variables."
   ]
  },
  {
   "cell_type": "code",
   "execution_count": 5,
   "metadata": {},
   "outputs": [
    {
     "name": "stdout",
     "output_type": "stream",
     "text": [
      "preg  - median:  3.0\n"
     ]
    },
    {
     "data": {
      "image/png": "[encoded data removed]",
      "text/plain": [
       "<Figure size 432x288 with 1 Axes>"
      ]
     },
     "metadata": {
      "needs_background": "light"
     },
     "output_type": "display_data"
    },
    {
     "name": "stdout",
     "output_type": "stream",
     "text": [
      "plas  - median:  117.0\n"
     ]
    },
    {
     "data": {
      "image/png": "[encoded data removed]",
      "text/plain": [
       "<Figure size 432x288 with 1 Axes>"
      ]
     },
     "metadata": {
      "needs_background": "light"
     },
     "output_type": "display_data"
    },
    {
     "name": "stdout",
     "output_type": "stream",
     "text": [
      "pres  - median:  72.0\n"
     ]
    },
    {
     "data": {
      "image/png": "[encoded data removed]",
      "text/plain": [
       "<Figure size 432x288 with 1 Axes>"
      ]
     },
     "metadata": {
      "needs_background": "light"
     },
     "output_type": "display_data"
    },
    {
     "name": "stdout",
     "output_type": "stream",
     "text": [
      "skin  - median:  23.0\n"
     ]
    },
    {
     "data": {
      "image/png": "[encoded data removed]",
      "text/plain": [
       "<Figure size 432x288 with 1 Axes>"
      ]
     },
     "metadata": {
      "needs_background": "light"
     },
     "output_type": "display_data"
    },
    {
     "name": "stdout",
     "output_type": "stream",
     "text": [
      "test  - median:  32.0\n"
     ]
    },
    {
     "data": {
      "image/png": "[encoded data removed]",
      "text/plain": [
       "<Figure size 432x288 with 1 Axes>"
      ]
     },
     "metadata": {
      "needs_background": "light"
     },
     "output_type": "display_data"
    },
    {
     "name": "stdout",
     "output_type": "stream",
     "text": [
      "mass  - median:  32.0\n"
     ]
    },
    {
     "data": {
      "image/png": "[encoded data removed]",
      "text/plain": [
       "<Figure size 432x288 with 1 Axes>"
      ]
     },
     "metadata": {
      "needs_background": "light"
     },
     "output_type": "display_data"
    },
    {
     "name": "stdout",
     "output_type": "stream",
     "text": [
      "pedi  - median:  0.371\n"
     ]
    },
    {
     "data": {
      "image/png": "[encoded data removed]",
      "text/plain": [
       "<Figure size 432x288 with 1 Axes>"
      ]
     },
     "metadata": {
      "needs_background": "light"
     },
     "output_type": "display_data"
    },
    {
     "name": "stdout",
     "output_type": "stream",
     "text": [
      "age  - median:  29.0\n"
     ]
    },
    {
     "data": {
      "image/png": "[encoded data removed]",
      "text/plain": [
       "<Figure size 432x288 with 1 Axes>"
      ]
     },
     "metadata": {
      "needs_background": "light"
     },
     "output_type": "display_data"
    }
   ],
   "source": [
    "for col in df.columns[:-1]:\n",
    "    print (col,' - median: ',df[col].median())\n",
    "    sns.distplot(df[col],norm_hist=True,color='blue',kde_kws={'label':'KDE'}) # histogram with the kernel-distribution line.\n",
    "    plt.axvline(df[col].mean(), color = 'r', linestyle = 'dashed', linewidth = 2) # plotting mean line\n",
    "    plt.axvline(df[col].median(),color='b',linewidth=2) # plotting median line\n",
    "    plt.show()"
   ]
  },
  {
   "cell_type": "markdown",
   "metadata": {},
   "source": [
    "We can see the median values of number of times the females have been pregnant is 3.\n",
    "The median age of the females is 29, as the description stated and the graph too shows that the data is recorded of females atleast 21 years of age.\n",
    "Other variable's median values can be seen."
   ]
  },
  {
   "cell_type": "markdown",
   "metadata": {},
   "source": [
    "Let's perform an Outlier removal of these independent continuous variables. "
   ]
  },
  {
   "cell_type": "markdown",
   "metadata": {},
   "source": [
    "### Outlier Removal"
   ]
  },
  {
   "cell_type": "code",
   "execution_count": 6,
   "metadata": {},
   "outputs": [],
   "source": [
    "for c in df.columns[:-1]:\n",
    "    q75,q25 = np.percentile(df[c],[75,25])\n",
    "    iqr = q75-q25\n",
    "    maximum = q75+(iqr*1.5)\n",
    "    minimum = q25-(iqr*1.5)\n",
    "    df.loc[df[c]>maximum,c]=np.NaN\n",
    "    df.loc[df[c]<minimum,c]=np.NaN"
   ]
  },
  {
   "cell_type": "markdown",
   "metadata": {},
   "source": [
    "Missing data after Outlier removal"
   ]
  },
  {
   "cell_type": "code",
   "execution_count": 7,
   "metadata": {},
   "outputs": [
    {
     "data": {
      "text/plain": [
       "preg     0.52\n",
       "plas     0.65\n",
       "pres     5.87\n",
       "skin     0.13\n",
       "test     4.43\n",
       "mass     2.48\n",
       "pedi     3.78\n",
       "age      1.17\n",
       "class    0.00\n",
       "dtype: float64"
      ]
     },
     "execution_count": 7,
     "metadata": {},
     "output_type": "execute_result"
    }
   ],
   "source": [
    "round((df.isnull().sum()/df.shape[0])*100,2)"
   ]
  },
  {
   "cell_type": "markdown",
   "metadata": {},
   "source": [
    "### Data Imputation"
   ]
  },
  {
   "cell_type": "code",
   "execution_count": 8,
   "metadata": {},
   "outputs": [
    {
     "data": {
      "text/plain": [
       "preg     0\n",
       "plas     0\n",
       "pres     0\n",
       "skin     0\n",
       "test     0\n",
       "mass     0\n",
       "pedi     0\n",
       "age      0\n",
       "class    0\n",
       "dtype: int64"
      ]
     },
     "execution_count": 8,
     "metadata": {},
     "output_type": "execute_result"
    }
   ],
   "source": [
    "from sklearn.impute import KNNImputer\n",
    "imputer = KNNImputer(n_neighbors=3)\n",
    "df_array = np.array(df)\n",
    "df = pd.DataFrame(data = imputer.fit_transform(df_array),columns = df.columns)\n",
    "df.isnull().sum()"
   ]
  },
  {
   "cell_type": "markdown",
   "metadata": {},
   "source": [
    "Though there are many variables in the independent features, let's try to visualize how average mass & pregnancy count of the females is associated with the presence of diabetes."
   ]
  },
  {
   "cell_type": "markdown",
   "metadata": {},
   "source": [
    "### Data Visualization"
   ]
  },
  {
   "cell_type": "code",
   "execution_count": 9,
   "metadata": {},
   "outputs": [
    {
     "data": {
      "image/png": "[encoded data removed]",
      "text/plain": [
       "<Figure size 432x288 with 1 Axes>"
      ]
     },
     "metadata": {
      "needs_background": "light"
     },
     "output_type": "display_data"
    },
    {
     "data": {
      "image/png": "[encoded data removed]",
      "text/plain": [
       "<Figure size 432x288 with 1 Axes>"
      ]
     },
     "metadata": {
      "needs_background": "light"
     },
     "output_type": "display_data"
    }
   ],
   "source": [
    "import seaborn as sns\n",
    "for i in ['mass','preg']:\n",
    "    ax = sns.barplot(x='class',y=i,data=df,estimator=np.mean)\n",
    "    plt.show()"
   ]
  },
  {
   "cell_type": "markdown",
   "metadata": {},
   "source": [
    "We can see that females on average with more mass and also with more number of pregnancies are associated with diabetes."
   ]
  },
  {
   "cell_type": "markdown",
   "metadata": {},
   "source": [
    "Let's further confirm our hypothesis of such variable relationships doing other tests."
   ]
  },
  {
   "cell_type": "markdown",
   "metadata": {},
   "source": [
    "But let's first normalize the continuous variables before performing those tests."
   ]
  },
  {
   "cell_type": "code",
   "execution_count": 11,
   "metadata": {},
   "outputs": [
    {
     "data": {
      "text/html": [
       "<div>\n",
       "<style scoped>\n",
       "    .dataframe tbody tr th:only-of-type {\n",
       "        vertical-align: middle;\n",
       "    }\n",
       "\n",
       "    .dataframe tbody tr th {\n",
       "        vertical-align: top;\n",
       "    }\n",
       "\n",
       "    .dataframe thead th {\n",
       "        text-align: right;\n",
       "    }\n",
       "</style>\n",
       "<table border=\"1\" class=\"dataframe\">\n",
       "  <thead>\n",
       "    <tr style=\"text-align: right;\">\n",
       "      <th></th>\n",
       "      <th>preg</th>\n",
       "      <th>plas</th>\n",
       "      <th>pres</th>\n",
       "      <th>skin</th>\n",
       "      <th>test</th>\n",
       "      <th>mass</th>\n",
       "      <th>pedi</th>\n",
       "      <th>age</th>\n",
       "      <th>class</th>\n",
       "    </tr>\n",
       "  </thead>\n",
       "  <tbody>\n",
       "    <tr>\n",
       "      <th>0</th>\n",
       "      <td>0.076923</td>\n",
       "      <td>0.264516</td>\n",
       "      <td>0.411765</td>\n",
       "      <td>0.460317</td>\n",
       "      <td>0.000000</td>\n",
       "      <td>0.264151</td>\n",
       "      <td>0.245283</td>\n",
       "      <td>0.222222</td>\n",
       "      <td>0.0</td>\n",
       "    </tr>\n",
       "    <tr>\n",
       "      <th>1</th>\n",
       "      <td>0.615385</td>\n",
       "      <td>0.896774</td>\n",
       "      <td>0.382353</td>\n",
       "      <td>0.000000</td>\n",
       "      <td>0.000000</td>\n",
       "      <td>0.160377</td>\n",
       "      <td>0.533693</td>\n",
       "      <td>0.244444</td>\n",
       "      <td>1.0</td>\n",
       "    </tr>\n",
       "    <tr>\n",
       "      <th>2</th>\n",
       "      <td>0.076923</td>\n",
       "      <td>0.290323</td>\n",
       "      <td>0.411765</td>\n",
       "      <td>0.365079</td>\n",
       "      <td>0.295597</td>\n",
       "      <td>0.311321</td>\n",
       "      <td>0.079964</td>\n",
       "      <td>0.000000</td>\n",
       "      <td>0.0</td>\n",
       "    </tr>\n",
       "    <tr>\n",
       "      <th>3</th>\n",
       "      <td>0.000000</td>\n",
       "      <td>0.600000</td>\n",
       "      <td>0.029412</td>\n",
       "      <td>0.555556</td>\n",
       "      <td>0.528302</td>\n",
       "      <td>0.783019</td>\n",
       "      <td>0.426475</td>\n",
       "      <td>0.266667</td>\n",
       "      <td>1.0</td>\n",
       "    </tr>\n",
       "    <tr>\n",
       "      <th>4</th>\n",
       "      <td>0.384615</td>\n",
       "      <td>0.464516</td>\n",
       "      <td>0.529412</td>\n",
       "      <td>0.000000</td>\n",
       "      <td>0.000000</td>\n",
       "      <td>0.232704</td>\n",
       "      <td>0.110512</td>\n",
       "      <td>0.200000</td>\n",
       "      <td>0.0</td>\n",
       "    </tr>\n",
       "    <tr>\n",
       "      <th>5</th>\n",
       "      <td>0.230769</td>\n",
       "      <td>0.219355</td>\n",
       "      <td>0.176471</td>\n",
       "      <td>0.507937</td>\n",
       "      <td>0.276730</td>\n",
       "      <td>0.402516</td>\n",
       "      <td>0.152740</td>\n",
       "      <td>0.111111</td>\n",
       "      <td>1.0</td>\n",
       "    </tr>\n",
       "    <tr>\n",
       "      <th>6</th>\n",
       "      <td>0.769231</td>\n",
       "      <td>0.458065</td>\n",
       "      <td>0.843137</td>\n",
       "      <td>0.000000</td>\n",
       "      <td>0.000000</td>\n",
       "      <td>0.537736</td>\n",
       "      <td>0.050314</td>\n",
       "      <td>0.177778</td>\n",
       "      <td>0.0</td>\n",
       "    </tr>\n",
       "  </tbody>\n",
       "</table>\n",
       "</div>"
      ],
      "text/plain": [
       "       preg      plas      pres      skin      test      mass      pedi  \\\n",
       "0  0.076923  0.264516  0.411765  0.460317  0.000000  0.264151  0.245283   \n",
       "1  0.615385  0.896774  0.382353  0.000000  0.000000  0.160377  0.533693   \n",
       "2  0.076923  0.290323  0.411765  0.365079  0.295597  0.311321  0.079964   \n",
       "3  0.000000  0.600000  0.029412  0.555556  0.528302  0.783019  0.426475   \n",
       "4  0.384615  0.464516  0.529412  0.000000  0.000000  0.232704  0.110512   \n",
       "5  0.230769  0.219355  0.176471  0.507937  0.276730  0.402516  0.152740   \n",
       "6  0.769231  0.458065  0.843137  0.000000  0.000000  0.537736  0.050314   \n",
       "\n",
       "        age  class  \n",
       "0  0.222222    0.0  \n",
       "1  0.244444    1.0  \n",
       "2  0.000000    0.0  \n",
       "3  0.266667    1.0  \n",
       "4  0.200000    0.0  \n",
       "5  0.111111    1.0  \n",
       "6  0.177778    0.0  "
      ]
     },
     "execution_count": 11,
     "metadata": {},
     "output_type": "execute_result"
    }
   ],
   "source": [
    "for c in df.columns[:-1]:\n",
    "    df[c] = (df[c]-min(df[c]))/(max(df[c])-min(df[c]))\n",
    "    \n",
    "df.head(7)    "
   ]
  },
  {
   "cell_type": "markdown",
   "metadata": {},
   "source": [
    "#### ANOVA test"
   ]
  },
  {
   "cell_type": "markdown",
   "metadata": {},
   "source": [
    "Relationship test between continuous independent & categoric target"
   ]
  },
  {
   "cell_type": "code",
   "execution_count": 12,
   "metadata": {},
   "outputs": [
    {
     "name": "stdout",
     "output_type": "stream",
     "text": [
      "related:  ['preg', 'plas', 'pres', 'test', 'mass', 'age']\n",
      "unrelated:  ['skin', 'pedi']\n"
     ]
    }
   ],
   "source": [
    "ANOVA_unrelated=[]\n",
    "ANOVA_related=[]\n",
    "\n",
    "from scipy import stats\n",
    "for i in df.columns[:-1]:\n",
    "    fStat,pVal = stats.f_oneway(df['class'],df[i])\n",
    "    if pVal<0.05:\n",
    "        #print (i,' related to the target')\n",
    "        ANOVA_related.append(i)\n",
    "    else:\n",
    "        #3print (i,' has no relation with target')\n",
    "        ANOVA_unrelated.append(i)\n",
    "        \n",
    "print ('related: ',ANOVA_related)\n",
    "print ('unrelated: ',ANOVA_unrelated)"
   ]
  },
  {
   "cell_type": "markdown",
   "metadata": {},
   "source": [
    "### Extra Trees classifier"
   ]
  },
  {
   "cell_type": "markdown",
   "metadata": {},
   "source": [
    "It's a trees based classifier"
   ]
  },
  {
   "cell_type": "code",
   "execution_count": 13,
   "metadata": {},
   "outputs": [
    {
     "data": {
      "image/png": "[encoded data removed]",
      "text/plain": [
       "<Figure size 432x288 with 1 Axes>"
      ]
     },
     "metadata": {
      "needs_background": "light"
     },
     "output_type": "display_data"
    }
   ],
   "source": [
    "from sklearn.tree import ExtraTreeClassifier as ET\n",
    "importance = ET().fit(df.iloc[:,:-1],df['class'])\n",
    "\n",
    "values = pd.Series(importance.feature_importances_,index=df.columns[:-1])\n",
    "values.nlargest(10).plot(kind='bar')\n",
    "plt.figsize=(10,15)\n",
    "plt.show()"
   ]
  },
  {
   "cell_type": "markdown",
   "metadata": {},
   "source": [
    "Let's create a list of the 4 least important features from Extra Trees classifier graph."
   ]
  },
  {
   "cell_type": "code",
   "execution_count": 18,
   "metadata": {},
   "outputs": [
    {
     "data": {
      "text/plain": [
       "['skin', 'test', 'pres', 'preg']"
      ]
     },
     "execution_count": 18,
     "metadata": {},
     "output_type": "execute_result"
    }
   ],
   "source": [
    "ET_unimportant = list(values.nsmallest(4).index)\n",
    "ET_unimportant"
   ]
  },
  {
   "cell_type": "markdown",
   "metadata": {},
   "source": [
    "### Ridge Regression Feature importance"
   ]
  },
  {
   "cell_type": "code",
   "execution_count": 15,
   "metadata": {},
   "outputs": [
    {
     "name": "stdout",
     "output_type": "stream",
     "text": [
      "important features:  ['plas', 'mass']\n",
      "unimportant:  ['preg', 'pres', 'skin', 'test', 'pedi', 'age', 'class']\n"
     ]
    }
   ],
   "source": [
    "from sklearn.linear_model import LogisticRegression\n",
    "from sklearn.feature_selection import SelectFromModel\n",
    "sel_ = SelectFromModel(LogisticRegression(penalty='l2'))\n",
    "sel_.fit(df.iloc[:,:-1],df['class'])\n",
    "\n",
    "RR_important = list(df.columns[:-1][sel_.get_support()])\n",
    "RR_unimportant = [i for i in df.columns if i not in RR_important]\n",
    "print ('important features: ',RR_important)\n",
    "print ('unimportant: ',RR_unimportant)"
   ]
  },
  {
   "cell_type": "markdown",
   "metadata": {},
   "source": [
    "### Random Forest Feature importances"
   ]
  },
  {
   "cell_type": "code",
   "execution_count": 19,
   "metadata": {},
   "outputs": [
    {
     "name": "stdout",
     "output_type": "stream",
     "text": [
      "important features:  Index(['plas', 'mass', 'age'], dtype='object')\n",
      "unimportant:  ['preg', 'pres', 'skin', 'test', 'pedi', 'class']\n"
     ]
    }
   ],
   "source": [
    "from sklearn.ensemble import RandomForestClassifier\n",
    "sel_ = SelectFromModel(RandomForestClassifier())\n",
    "sel_.fit(df.iloc[:,:-1],df['class'])\n",
    "\n",
    "RF_important = df.columns[:-1][sel_.get_support()]\n",
    "RF_unimportant = [i for i in df.columns if i not in RF_important]\n",
    "print ('important features: ',RF_important)\n",
    "print ('unimportant: ',RF_unimportant)"
   ]
  },
  {
   "cell_type": "markdown",
   "metadata": {},
   "source": [
    "Let's look at all 4 unimportant lists of features"
   ]
  },
  {
   "cell_type": "code",
   "execution_count": null,
   "metadata": {},
   "outputs": [],
   "source": [
    "Random Forest: ['preg', 'pres', 'skin', 'test', 'pedi', 'class']\n",
    "Ridge regression: ['preg', 'pres', 'skin', 'test', 'pedi', 'age', 'class']\n",
    "Extra Trees classifier: ['skin', 'test', 'pres', 'preg']   \n",
    "ANOVA: ['skin', 'pedi']"
   ]
  },
  {
   "cell_type": "markdown",
   "metadata": {},
   "source": [
    "'skin','pres','preg','test' & 'pedi' are unimportant in 3 out of 4 tests.I removed these features, but the models build over them didn't give good classification metrics.\n",
    "So, I'll only remove 'skin' & 'pedi' as ANOVA test & 2 other tests said."
   ]
  },
  {
   "cell_type": "code",
   "execution_count": 39,
   "metadata": {},
   "outputs": [
    {
     "name": "stdout",
     "output_type": "stream",
     "text": [
      "(767, 7)\n"
     ]
    },
    {
     "data": {
      "text/html": [
       "<div>\n",
       "<style scoped>\n",
       "    .dataframe tbody tr th:only-of-type {\n",
       "        vertical-align: middle;\n",
       "    }\n",
       "\n",
       "    .dataframe tbody tr th {\n",
       "        vertical-align: top;\n",
       "    }\n",
       "\n",
       "    .dataframe thead th {\n",
       "        text-align: right;\n",
       "    }\n",
       "</style>\n",
       "<table border=\"1\" class=\"dataframe\">\n",
       "  <thead>\n",
       "    <tr style=\"text-align: right;\">\n",
       "      <th></th>\n",
       "      <th>preg</th>\n",
       "      <th>plas</th>\n",
       "      <th>pres</th>\n",
       "      <th>test</th>\n",
       "      <th>mass</th>\n",
       "      <th>age</th>\n",
       "      <th>class</th>\n",
       "    </tr>\n",
       "  </thead>\n",
       "  <tbody>\n",
       "    <tr>\n",
       "      <th>0</th>\n",
       "      <td>0.076923</td>\n",
       "      <td>0.264516</td>\n",
       "      <td>0.411765</td>\n",
       "      <td>0.000000</td>\n",
       "      <td>0.264151</td>\n",
       "      <td>0.222222</td>\n",
       "      <td>0.0</td>\n",
       "    </tr>\n",
       "    <tr>\n",
       "      <th>1</th>\n",
       "      <td>0.615385</td>\n",
       "      <td>0.896774</td>\n",
       "      <td>0.382353</td>\n",
       "      <td>0.000000</td>\n",
       "      <td>0.160377</td>\n",
       "      <td>0.244444</td>\n",
       "      <td>1.0</td>\n",
       "    </tr>\n",
       "    <tr>\n",
       "      <th>2</th>\n",
       "      <td>0.076923</td>\n",
       "      <td>0.290323</td>\n",
       "      <td>0.411765</td>\n",
       "      <td>0.295597</td>\n",
       "      <td>0.311321</td>\n",
       "      <td>0.000000</td>\n",
       "      <td>0.0</td>\n",
       "    </tr>\n",
       "    <tr>\n",
       "      <th>3</th>\n",
       "      <td>0.000000</td>\n",
       "      <td>0.600000</td>\n",
       "      <td>0.029412</td>\n",
       "      <td>0.528302</td>\n",
       "      <td>0.783019</td>\n",
       "      <td>0.266667</td>\n",
       "      <td>1.0</td>\n",
       "    </tr>\n",
       "    <tr>\n",
       "      <th>4</th>\n",
       "      <td>0.384615</td>\n",
       "      <td>0.464516</td>\n",
       "      <td>0.529412</td>\n",
       "      <td>0.000000</td>\n",
       "      <td>0.232704</td>\n",
       "      <td>0.200000</td>\n",
       "      <td>0.0</td>\n",
       "    </tr>\n",
       "  </tbody>\n",
       "</table>\n",
       "</div>"
      ],
      "text/plain": [
       "       preg      plas      pres      test      mass       age  class\n",
       "0  0.076923  0.264516  0.411765  0.000000  0.264151  0.222222    0.0\n",
       "1  0.615385  0.896774  0.382353  0.000000  0.160377  0.244444    1.0\n",
       "2  0.076923  0.290323  0.411765  0.295597  0.311321  0.000000    0.0\n",
       "3  0.000000  0.600000  0.029412  0.528302  0.783019  0.266667    1.0\n",
       "4  0.384615  0.464516  0.529412  0.000000  0.232704  0.200000    0.0"
      ]
     },
     "execution_count": 39,
     "metadata": {},
     "output_type": "execute_result"
    }
   ],
   "source": [
    "df2 = df.drop(['skin','pedi'],axis=1)\n",
    "print (df2.shape)\n",
    "df2.head()"
   ]
  },
  {
   "cell_type": "markdown",
   "metadata": {},
   "source": [
    "Let's split the data into train & test before we balance the data & oversample it."
   ]
  },
  {
   "cell_type": "code",
   "execution_count": 40,
   "metadata": {},
   "outputs": [
    {
     "name": "stdout",
     "output_type": "stream",
     "text": [
      "Training shape:  (536, 6) (536,)\n",
      "Testing shape:  (231, 6) (231,)\n"
     ]
    }
   ],
   "source": [
    "from sklearn.model_selection import train_test_split\n",
    "from collections import Counter\n",
    "\n",
    "X = df2.iloc[:,:-1]\n",
    "y = df2['class']\n",
    "\n",
    "# Let's split the data into train & test before oversampling the training data\n",
    "X_train,X_test,y_train,y_test=train_test_split(X,y,train_size=0.7)\n",
    "print ('Training shape: ',X_train.shape,y_train.shape)\n",
    "print ('Testing shape: ',X_test.shape,y_test.shape)"
   ]
  },
  {
   "cell_type": "markdown",
   "metadata": {},
   "source": [
    "Let's try to balance out the ratio of 0 to 1 in the training set."
   ]
  },
  {
   "cell_type": "code",
   "execution_count": 41,
   "metadata": {},
   "outputs": [
    {
     "name": "stdout",
     "output_type": "stream",
     "text": [
      "The number of classes before fit Counter({0.0: 351, 1.0: 185})\n",
      "The number of classes after fit Counter({0.0: 351, 1.0: 351})\n",
      "New training data shape:  (702, 6) (702,)\n"
     ]
    },
    {
     "name": "stderr",
     "output_type": "stream",
     "text": [
      "c:\\python37\\lib\\site-packages\\imblearn\\utils\\_validation.py:638: FutureWarning: Pass sampling_strategy=1 as keyword args. From version 0.9 passing these as positional arguments will result in an error\n",
      "  FutureWarning)\n"
     ]
    }
   ],
   "source": [
    "from imblearn.over_sampling import RandomOverSampler\n",
    "os=RandomOverSampler(1)\n",
    "X_train_os,y_train_os = os.fit_sample(X_train,y_train)\n",
    "print(\"The number of classes before fit {}\".format(Counter(y_train)))\n",
    "print(\"The number of classes after fit {}\".format(Counter(y_train_os)))\n",
    "print ('New training data shape: ',X_train_os.shape,y_train_os.shape)"
   ]
  },
  {
   "cell_type": "markdown",
   "metadata": {},
   "source": [
    "Let's also oversample the training data for providing more observations for training different models."
   ]
  },
  {
   "cell_type": "code",
   "execution_count": 42,
   "metadata": {},
   "outputs": [
    {
     "data": {
      "text/plain": [
       "((2808, 6), (2808,))"
      ]
     },
     "execution_count": 42,
     "metadata": {},
     "output_type": "execute_result"
    }
   ],
   "source": [
    "from sklearn.utils import shuffle\n",
    "X1 = np.array(X_train_os[y_train_os==1])\n",
    "X0 = np.array(X_train_os[y_train_os==0])\n",
    "X = np.vstack([X0, X0, X0, X0, X1, X1, X1, X1])\n",
    "Y = np.concatenate(([0]*4*len(X0), [1]*4*len(X1)))\n",
    "X,Y = shuffle(X,Y)\n",
    "X.shape,Y.shape"
   ]
  },
  {
   "cell_type": "markdown",
   "metadata": {},
   "source": [
    "Let's define an error-metric function to judge the model's classifications"
   ]
  },
  {
   "cell_type": "code",
   "execution_count": 28,
   "metadata": {},
   "outputs": [],
   "source": [
    "from sklearn.metrics import accuracy_score,confusion_matrix,classification_report\n",
    "\n",
    "def error_metric(y_true,y_preds):\n",
    "    CM = pd.crosstab(y_true,y_preds) # the confusion matrix\n",
    "    TN = CM.iloc[0,0]\n",
    "    FN = CM.iloc[1,0]\n",
    "    TP = CM.iloc[1,1]\n",
    "    FP = CM.iloc[0,1]\n",
    "    print (classification_report(y_true, y_preds))\n",
    "    print (confusion_matrix(y_true,y_preds))\n",
    "    print ('accuracy score: ',accuracy_score(y_true, y_preds)*100,'%') #check accuracy of model\n",
    "    print ('False-Negative-Rate: ',(FN*100)/(FN+TP),'%') #False Negative rate \n",
    "    print ('true-positive-rate: ',((TP)*100)/(TP+FN),'%')"
   ]
  },
  {
   "cell_type": "markdown",
   "metadata": {},
   "source": [
    "Let's also define a function to plot the AUC-ROC curve"
   ]
  },
  {
   "cell_type": "code",
   "execution_count": 29,
   "metadata": {},
   "outputs": [],
   "source": [
    "from sklearn.metrics import roc_curve, auc, roc_auc_score\n",
    "from matplotlib import pyplot as plt\n",
    "def plotRocAuc(fpr, tpr, thresholds,score):\n",
    "       \n",
    "    # Plot the \"dumb model\" line\n",
    "    plt.plot([0, 1], [0, 1], linestyle='--')\n",
    "    \n",
    "    # Plot the model line\n",
    "    plt.plot(fpr, tpr, marker='.')\n",
    "    plt.text(0.75, 0.25, \"AUC: \" + str(round(score,2)))\n",
    "    \n",
    "    # show the plot\n",
    "    plt.show()"
   ]
  },
  {
   "cell_type": "markdown",
   "metadata": {},
   "source": [
    "### Logistic Regression"
   ]
  },
  {
   "cell_type": "code",
   "execution_count": 43,
   "metadata": {},
   "outputs": [
    {
     "name": "stdout",
     "output_type": "stream",
     "text": [
      "              precision    recall  f1-score   support\n",
      "\n",
      "         0.0       0.83      0.77      0.79       149\n",
      "         1.0       0.62      0.71      0.66        82\n",
      "\n",
      "    accuracy                           0.74       231\n",
      "   macro avg       0.72      0.74      0.73       231\n",
      "weighted avg       0.75      0.74      0.75       231\n",
      "\n",
      "[[114  35]\n",
      " [ 24  58]]\n",
      "accuracy score:  74.45887445887446 %\n",
      "False-Negative-Rate:  29.26829268292683 %\n",
      "true-positive-rate:  70.73170731707317 %\n",
      "None\n"
     ]
    },
    {
     "data": {
      "image/png": "[encoded data removed]",
      "text/plain": [
       "<Figure size 432x288 with 1 Axes>"
      ]
     },
     "metadata": {
      "needs_background": "light"
     },
     "output_type": "display_data"
    }
   ],
   "source": [
    "from sklearn.linear_model import LogisticRegression\n",
    "LR_model = LogisticRegression().fit(X, Y) \n",
    "LR_preds = LR_model.predict_proba(X_test)\n",
    "print (error_metric(y_test,np.round((LR_preds)[:,1])))\n",
    "LR_fpr,LR_tpr,LR_thresholds = roc_curve(y_test,LR_preds[:,1])\n",
    "LR_score = roc_auc_score(y_test, LR_preds[:,1])\n",
    "plotRocAuc(LR_fpr, LR_tpr, LR_thresholds,LR_score)"
   ]
  },
  {
   "cell_type": "markdown",
   "metadata": {},
   "source": [
    "### Decision Tree classifier"
   ]
  },
  {
   "cell_type": "code",
   "execution_count": 44,
   "metadata": {},
   "outputs": [
    {
     "name": "stdout",
     "output_type": "stream",
     "text": [
      "              precision    recall  f1-score   support\n",
      "\n",
      "         0.0       0.76      0.76      0.76       149\n",
      "         1.0       0.56      0.56      0.56        82\n",
      "\n",
      "    accuracy                           0.69       231\n",
      "   macro avg       0.66      0.66      0.66       231\n",
      "weighted avg       0.69      0.69      0.69       231\n",
      "\n",
      "[[113  36]\n",
      " [ 36  46]]\n",
      "accuracy score:  68.83116883116884 %\n",
      "False-Negative-Rate:  43.90243902439025 %\n",
      "true-positive-rate:  56.09756097560975 %\n",
      "None\n"
     ]
    },
    {
     "data": {
      "image/png": "[encoded data removed]",
      "text/plain": [
       "<Figure size 432x288 with 1 Axes>"
      ]
     },
     "metadata": {
      "needs_background": "light"
     },
     "output_type": "display_data"
    }
   ],
   "source": [
    "from sklearn.tree import DecisionTreeClassifier\n",
    "DT_model = DecisionTreeClassifier(criterion='entropy').fit(X,Y)\n",
    "DT_preds = DT_model.predict_proba(X_test)\n",
    "print(error_metric(y_test,np.round(DT_preds[:,1])))\n",
    "DT_fpr, DT_tpr, DT_thresholds = roc_curve(y_test, DT_preds[:,1])\n",
    "DT_score = roc_auc_score(y_test, DT_preds[:,1])\n",
    "plotRocAuc(DT_fpr, DT_tpr, DT_thresholds,DT_score)"
   ]
  },
  {
   "cell_type": "markdown",
   "metadata": {},
   "source": [
    "### Random Forest Classifier"
   ]
  },
  {
   "cell_type": "code",
   "execution_count": 45,
   "metadata": {},
   "outputs": [
    {
     "name": "stdout",
     "output_type": "stream",
     "text": [
      "              precision    recall  f1-score   support\n",
      "\n",
      "         0.0       0.82      0.84      0.83       149\n",
      "         1.0       0.69      0.66      0.68        82\n",
      "\n",
      "    accuracy                           0.77       231\n",
      "   macro avg       0.75      0.75      0.75       231\n",
      "weighted avg       0.77      0.77      0.77       231\n",
      "\n",
      "[[125  24]\n",
      " [ 28  54]]\n",
      "accuracy score:  77.48917748917748 %\n",
      "False-Negative-Rate:  34.146341463414636 %\n",
      "true-positive-rate:  65.85365853658537 %\n"
     ]
    },
    {
     "data": {
      "image/png": "[encoded data removed]",
      "text/plain": [
       "<Figure size 432x288 with 1 Axes>"
      ]
     },
     "metadata": {
      "needs_background": "light"
     },
     "output_type": "display_data"
    }
   ],
   "source": [
    "from sklearn.ensemble import RandomForestClassifier\n",
    "RF_model = RandomForestClassifier(n_estimators=100).fit(X,Y)\n",
    "RF_preds = RF_model.predict_proba(X_test)\n",
    "error_metric(y_test,np.round(RF_preds[:,1]))\n",
    "RF_fpr,RF_tpr,RF_thresholds = roc_curve(y_test,RF_preds[:,1])\n",
    "RF_score = roc_auc_score(y_test, RF_preds[:,1])\n",
    "plotRocAuc(RF_fpr, RF_tpr, RF_thresholds, RF_score)"
   ]
  },
  {
   "cell_type": "markdown",
   "metadata": {},
   "source": [
    "### Naive Bayes"
   ]
  },
  {
   "cell_type": "code",
   "execution_count": 47,
   "metadata": {},
   "outputs": [
    {
     "name": "stdout",
     "output_type": "stream",
     "text": [
      "              precision    recall  f1-score   support\n",
      "\n",
      "         0.0       0.80      0.87      0.83       149\n",
      "         1.0       0.71      0.60      0.65        82\n",
      "\n",
      "    accuracy                           0.77       231\n",
      "   macro avg       0.75      0.73      0.74       231\n",
      "weighted avg       0.77      0.77      0.77       231\n",
      "\n",
      "[[129  20]\n",
      " [ 33  49]]\n",
      "accuracy score:  77.05627705627705 %\n",
      "False-Negative-Rate:  40.24390243902439 %\n",
      "true-positive-rate:  59.75609756097561 %\n",
      "None\n"
     ]
    },
    {
     "data": {
      "image/png": "[encoded data removed]",
      "text/plain": [
       "<Figure size 432x288 with 1 Axes>"
      ]
     },
     "metadata": {
      "needs_background": "light"
     },
     "output_type": "display_data"
    }
   ],
   "source": [
    "from sklearn.naive_bayes import GaussianNB\n",
    "NB_model = GaussianNB().fit(X_train,y_train)\n",
    "NB_preds = NB_model.predict_proba(X_test)\n",
    "print (error_metric(y_test,np.round((NB_preds)[:,1])))\n",
    "NB_fpr,NB_tpr,NB_thresholds = roc_curve(y_test,NB_preds[:,1])\n",
    "NB_score = roc_auc_score(y_test, NB_preds[:,1])\n",
    "plotRocAuc(NB_fpr, NB_tpr, NB_thresholds, NB_score)"
   ]
  },
  {
   "cell_type": "markdown",
   "metadata": {},
   "source": [
    "### K-Nearest Neighbours"
   ]
  },
  {
   "cell_type": "code",
   "execution_count": 48,
   "metadata": {},
   "outputs": [
    {
     "name": "stdout",
     "output_type": "stream",
     "text": [
      "              precision    recall  f1-score   support\n",
      "\n",
      "         0.0       0.78      0.84      0.81       149\n",
      "         1.0       0.66      0.56      0.61        82\n",
      "\n",
      "    accuracy                           0.74       231\n",
      "   macro avg       0.72      0.70      0.71       231\n",
      "weighted avg       0.73      0.74      0.74       231\n",
      "\n",
      "[[125  24]\n",
      " [ 36  46]]\n",
      "accuracy score:  74.02597402597402 %\n",
      "False-Negative-Rate:  43.90243902439025 %\n",
      "true-positive-rate:  56.09756097560975 %\n",
      "None\n"
     ]
    },
    {
     "data": {
      "image/png": "[encoded data removed]",
      "text/plain": [
       "<Figure size 432x288 with 1 Axes>"
      ]
     },
     "metadata": {
      "needs_background": "light"
     },
     "output_type": "display_data"
    }
   ],
   "source": [
    "from sklearn.neighbors import KNeighborsClassifier\n",
    "K_model = KNeighborsClassifier(n_neighbors=5).fit(X_train,y_train)\n",
    "K_preds = K_model.predict_proba(X_test)\n",
    "print (error_metric(y_test,np.round((K_preds)[:,1])))\n",
    "K_fpr,K_tpr,K_thresholds = roc_curve(y_test,K_preds[:,1])\n",
    "K_score = roc_auc_score(y_test, K_preds[:,1])\n",
    "plotRocAuc(K_fpr, K_tpr, K_thresholds, K_score)"
   ]
  },
  {
   "cell_type": "markdown",
   "metadata": {},
   "source": [
    "### ADABoost Classifier"
   ]
  },
  {
   "cell_type": "code",
   "execution_count": 49,
   "metadata": {},
   "outputs": [
    {
     "name": "stdout",
     "output_type": "stream",
     "text": [
      "              precision    recall  f1-score   support\n",
      "\n",
      "         0.0       0.81      0.73      0.77       149\n",
      "         1.0       0.59      0.70      0.64        82\n",
      "\n",
      "    accuracy                           0.72       231\n",
      "   macro avg       0.70      0.71      0.70       231\n",
      "weighted avg       0.73      0.72      0.72       231\n",
      "\n",
      "[[109  40]\n",
      " [ 25  57]]\n",
      "accuracy score:  71.86147186147186 %\n",
      "False-Negative-Rate:  30.48780487804878 %\n",
      "true-positive-rate:  69.51219512195122 %\n"
     ]
    },
    {
     "data": {
      "image/png": "[encoded data removed]",
      "text/plain": [
       "<Figure size 432x288 with 1 Axes>"
      ]
     },
     "metadata": {
      "needs_background": "light"
     },
     "output_type": "display_data"
    }
   ],
   "source": [
    "from sklearn.ensemble import AdaBoostClassifier\n",
    "ada_classifier=AdaBoostClassifier().fit(X,Y)\n",
    "ADA_preds = ada_classifier.predict_proba(X_test)\n",
    "ADA_fpr, ADA_tpr, ADA_thresholds = roc_curve(y_test, ADA_preds[:,1])\n",
    "ADA_score = roc_auc_score(y_test, ADA_preds[:,1])\n",
    "error_metric(y_test,np.round(ADA_preds[:,1]))\n",
    "plotRocAuc(ADA_fpr, ADA_tpr, ADA_thresholds, ADA_score)"
   ]
  },
  {
   "cell_type": "markdown",
   "metadata": {},
   "source": [
    "### Support Vector classifier"
   ]
  },
  {
   "cell_type": "code",
   "execution_count": 50,
   "metadata": {},
   "outputs": [
    {
     "name": "stdout",
     "output_type": "stream",
     "text": [
      "              precision    recall  f1-score   support\n",
      "\n",
      "         0.0       0.86      0.77      0.81       149\n",
      "         1.0       0.65      0.77      0.70        82\n",
      "\n",
      "    accuracy                           0.77       231\n",
      "   macro avg       0.75      0.77      0.76       231\n",
      "weighted avg       0.78      0.77      0.77       231\n",
      "\n",
      "[[115  34]\n",
      " [ 19  63]]\n",
      "accuracy score:  77.05627705627705 %\n",
      "False-Negative-Rate:  23.170731707317074 %\n",
      "true-positive-rate:  76.82926829268293 %\n"
     ]
    },
    {
     "data": {
      "image/png": "[encoded data removed]",
      "text/plain": [
       "<Figure size 432x288 with 1 Axes>"
      ]
     },
     "metadata": {
      "needs_background": "light"
     },
     "output_type": "display_data"
    }
   ],
   "source": [
    "from sklearn.svm import SVC\n",
    "SV_model = SVC(C=1.0,probability=True).fit(X,Y)\n",
    "SV_preds = SV_model.predict_proba(X_test)\n",
    "\n",
    "SV_fpr, SV_tpr, SV_thresholds = roc_curve(y_test, SV_preds[:,1])\n",
    "SV_score = roc_auc_score(y_test, SV_preds[:,1])\n",
    "error_metric(y_test,np.round(SV_preds[:,1]))\n",
    "plotRocAuc(SV_fpr, SV_tpr, SV_thresholds, SV_score)"
   ]
  },
  {
   "cell_type": "markdown",
   "metadata": {},
   "source": [
    "### XGBoost classifier"
   ]
  },
  {
   "cell_type": "code",
   "execution_count": 52,
   "metadata": {},
   "outputs": [
    {
     "name": "stdout",
     "output_type": "stream",
     "text": [
      "              precision    recall  f1-score   support\n",
      "\n",
      "         0.0       0.82      0.79      0.80       149\n",
      "         1.0       0.64      0.68      0.66        82\n",
      "\n",
      "    accuracy                           0.75       231\n",
      "   macro avg       0.73      0.73      0.73       231\n",
      "weighted avg       0.75      0.75      0.75       231\n",
      "\n",
      "[[117  32]\n",
      " [ 26  56]]\n",
      "accuracy score:  74.89177489177489 %\n",
      "False-Negative-Rate:  31.70731707317073 %\n",
      "true-positive-rate:  68.29268292682927 %\n"
     ]
    },
    {
     "data": {
      "image/png": "[encoded data removed]",
      "text/plain": [
       "<Figure size 432x288 with 1 Axes>"
      ]
     },
     "metadata": {
      "needs_background": "light"
     },
     "output_type": "display_data"
    }
   ],
   "source": [
    "from xgboost import XGBClassifier\n",
    "\n",
    "XG_model = XGBClassifier().fit(X,Y)\n",
    "XG_preds = XG_model.predict_proba(X_test)\n",
    "\n",
    "XG_fpr, XG_tpr, XG_thresholds = roc_curve(y_test, XG_preds[:,1])\n",
    "XG_score = roc_auc_score(y_test, XG_preds[:,1])\n",
    "error_metric(y_test,np.round(XG_preds[:,1]))\n",
    "plotRocAuc(XG_fpr, XG_tpr, XG_thresholds, XG_score)"
   ]
  },
  {
   "cell_type": "markdown",
   "metadata": {},
   "source": [
    "### Neural network"
   ]
  },
  {
   "cell_type": "code",
   "execution_count": 51,
   "metadata": {},
   "outputs": [
    {
     "name": "stdout",
     "output_type": "stream",
     "text": [
      "(1965, 6) (1965,)\n",
      "(843, 6) (843,)\n",
      "Epoch 1/5\n",
      "31/31 [==============================] - 0s 6ms/step - loss: 0.6938 - accuracy: 0.5089 - val_loss: 0.6908 - val_accuracy: 0.5018\n",
      "Epoch 2/5\n",
      "31/31 [==============================] - 0s 2ms/step - loss: 0.6912 - accuracy: 0.5379 - val_loss: 0.6877 - val_accuracy: 0.4982\n",
      "Epoch 3/5\n",
      "31/31 [==============================] - 0s 2ms/step - loss: 0.6854 - accuracy: 0.5634 - val_loss: 0.6829 - val_accuracy: 0.6074\n",
      "Epoch 4/5\n",
      "31/31 [==============================] - 0s 2ms/step - loss: 0.6813 - accuracy: 0.5883 - val_loss: 0.6825 - val_accuracy: 0.5018\n",
      "Epoch 5/5\n",
      "31/31 [==============================] - 0s 2ms/step - loss: 0.6770 - accuracy: 0.6076 - val_loss: 0.6729 - val_accuracy: 0.7177\n",
      "(231, 1)\n",
      "8/8 [==============================] - 0s 1000us/step - loss: 0.6761 - accuracy: 0.7100\n",
      "loss :  0.6760542392730713\n",
      "accuracy :  0.709956705570221\n"
     ]
    },
    {
     "data": {
      "image/png": "[encoded data removed]",
      "text/plain": [
       "<Figure size 432x288 with 1 Axes>"
      ]
     },
     "metadata": {
      "needs_background": "light"
     },
     "output_type": "display_data"
    },
    {
     "name": "stdout",
     "output_type": "stream",
     "text": [
      "              precision    recall  f1-score   support\n",
      "\n",
      "         0.0       0.92      0.60      0.73       149\n",
      "         1.0       0.56      0.90      0.69        82\n",
      "\n",
      "    accuracy                           0.71       231\n",
      "   macro avg       0.74      0.75      0.71       231\n",
      "weighted avg       0.79      0.71      0.71       231\n",
      "\n",
      "[[90 59]\n",
      " [ 8 74]]\n",
      "accuracy score:  70.995670995671 %\n",
      "False-Negative-Rate:  9.75609756097561 %\n",
      "true-positive-rate:  90.2439024390244 %\n"
     ]
    },
    {
     "data": {
      "image/png": "[encoded data removed]",
      "text/plain": [
       "<Figure size 432x288 with 1 Axes>"
      ]
     },
     "metadata": {
      "needs_background": "light"
     },
     "output_type": "display_data"
    }
   ],
   "source": [
    "from keras import models\n",
    "from keras import layers\n",
    "\n",
    "def build_model():\n",
    "    model = models.Sequential()\n",
    "    model.add(layers.Dense(64, activation='sigmoid', input_shape=(X.shape[1],)))\n",
    "    model.add(layers.Dense(64, activation='sigmoid'))\n",
    "    model.add(layers.Dense(1, activation='sigmoid')) # because of multi-class labels\n",
    "    # defining the optimizer and loss and accuracy parameters\n",
    "    model.compile(optimizer='rmsprop',loss='binary_crossentropy',metrics=['accuracy'])\n",
    "    return model\n",
    "\n",
    "# testing how the individual model with sampLe parameters scores on test data\n",
    "X_train_os2, x_val, y_train_os2, y_val = train_test_split(X,Y,train_size=0.7)\n",
    "print (X_train_os2.shape, y_train_os2.shape)\n",
    "print (x_val.shape,y_val.shape)\n",
    "model = build_model()\n",
    "history = model.fit(X_train_os2, y_train_os2, batch_size=64, epochs=5, validation_data=(x_val, y_val))\n",
    "\n",
    "DL_preds = model.predict_proba(X_test)\n",
    "print (DL_preds.shape)\n",
    "test_results = model.evaluate(X_test,y_test)\n",
    "for i in range(len(test_results)):\n",
    "    print (model.metrics_names[i],': ',test_results[i])\n",
    "\n",
    "DL_preds2 = [round(i[0]) for i in DL_preds]\n",
    "\n",
    "\n",
    "import matplotlib.pyplot as plt\n",
    "loss = history.history['loss']\n",
    "val_loss = history.history['val_loss']\n",
    "epochs = range(1, len(loss) + 1)\n",
    "plt.plot(epochs, loss, 'bo', label='Training loss')\n",
    "plt.plot(epochs, val_loss, 'b', label='Validation loss')\n",
    "plt.title('Training and validation loss')\n",
    "plt.xlabel('Epochs')\n",
    "plt.ylabel('Loss')\n",
    "plt.legend()\n",
    "plt.show()\n",
    "\n",
    "DL_fpr, DL_tpr, DL_thresholds = roc_curve(y_test, DL_preds)\n",
    "DL_score = roc_auc_score(y_test, DL_preds)\n",
    "error_metric(y_test,np.array(DL_preds2))\n",
    "plotRocAuc(DL_fpr, DL_tpr, DL_thresholds, DL_score)"
   ]
  },
  {
   "cell_type": "markdown",
   "metadata": {},
   "source": [
    "## CONCLUSION"
   ]
  },
  {
   "cell_type": "markdown",
   "metadata": {},
   "source": [
    "#### Our domain here is to classify Diabetes in these women. It's important that presence of diabetes never be incorrectly classified as negative or absent.\n",
    "#### Our False-Negative_rate should be low. \n",
    "#### The Deep-learning model used Keras gives lower FNR: 9.75%, with a decent accuracy: 71% and good TPR: 90.24%"
   ]
  },
  {
   "cell_type": "markdown",
   "metadata": {},
   "source": [
    "### Hence, the Deep-Neural_network would be preferable model that can be used for this test-case."
   ]
  }
 ],
 "metadata": {
  "kernelspec": {
   "display_name": "Python 3",
   "language": "python",
   "name": "python3"
  },
  "language_info": {
   "codemirror_mode": {
    "name": "ipython",
    "version": 3
   },
   "file_extension": ".py",
   "mimetype": "text/x-python",
   "name": "python",
   "nbconvert_exporter": "python",
   "pygments_lexer": "ipython3",
   "version": "3.7.2"
  }
 },
 "nbformat": 4,
 "nbformat_minor": 2
}
